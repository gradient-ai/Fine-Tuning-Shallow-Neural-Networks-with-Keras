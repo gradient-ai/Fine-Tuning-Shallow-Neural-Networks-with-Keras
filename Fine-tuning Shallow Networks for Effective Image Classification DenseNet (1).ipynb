{
 "cells": [
  {
   "cell_type": "markdown",
   "metadata": {
    "gradient": {
     "editing": false
    }
   },
   "source": [
    "# Fine-Tuning Shallow Neural Networks With Keras\n",
    "\n",
    "For a more detailed breakdown of the code, check out the full tutorial [on the Paperspace blog](https://blog.paperspace.com/fine-tuning-shallow-networks-keras/).\n",
    "\n",
    "Note: this example runs 10 epochs, but you should experiment with running many more than that to improve results."
   ]
  },
  {
   "cell_type": "code",
   "execution_count": null,
   "metadata": {
    "gradient": {}
   },
   "outputs": [],
   "source": [
    "!pip install keras\n",
    "!pip install --upgrade tensorflow\n",
    "!pip install 'h5py==2.10.0' --force-reinstall"
   ]
  },
  {
   "cell_type": "code",
   "execution_count": null,
   "metadata": {
    "colab": {
     "base_uri": "https://localhost:8080/",
     "height": 90
    },
    "gradient": {},
    "id": "sYVrctmMB7e5",
    "outputId": "b43a1a19-d4e7-452b-bed3-c2b60448c466"
   },
   "outputs": [],
   "source": [
    "import keras\n",
    "\n",
    "(x_train, y_train), (x_test, y_test) = keras.datasets.fashion_mnist.load_data()\n",
    "\n",
    "print('x_train.shape =',x_train.shape)\n",
    "print('y_train.shape =',y_train.shape)\n",
    "print('x_test.shape =',x_test.shape)\n",
    "print('y_test.shape =',y_test.shape)"
   ]
  },
  {
   "cell_type": "code",
   "execution_count": null,
   "metadata": {
    "colab": {
     "base_uri": "https://localhost:8080/",
     "height": 35
    },
    "gradient": {},
    "id": "rntIeavBB7kk",
    "outputId": "2f7a86c2-9165-4c3d-98e7-72eca746fa3b"
   },
   "outputs": [],
   "source": [
    "import numpy as np\n",
    "\n",
    "list_categories = ['T-shirt/top', 'Trouser', 'Pullover', 'Dress', 'Coat', 'Sandal', 'Shirt', 'Sneaker', 'Bag', 'Ankle boot']\n",
    "num_classes = np.unique(y_test).shape[0] #len(list_categories)\n",
    "print('num_classes =', num_classes)"
   ]
  },
  {
   "cell_type": "code",
   "execution_count": null,
   "metadata": {
    "gradient": {},
    "id": "ul2-qN8KB7ni"
   },
   "outputs": [],
   "source": [
    "x_train_norm = x_train/255\n",
    "x_test_norm = x_test/255"
   ]
  },
  {
   "cell_type": "code",
   "execution_count": null,
   "metadata": {
    "colab": {
     "base_uri": "https://localhost:8080/",
     "height": 90
    },
    "gradient": {},
    "id": "VVglO5LlB7qE",
    "outputId": "e383a97c-03fb-4f2e-fd5d-613ab6f7fc58"
   },
   "outputs": [],
   "source": [
    "final_train_imageset = np.expand_dims(x_train_norm, axis = 3)\n",
    "final_test_imageset = np.expand_dims(x_test_norm, axis = 3)\n",
    "\n",
    "y_train2 = np.expand_dims(y_train, axis = 1)\n",
    "y_test2 = np.expand_dims(y_test, axis = 1)\n",
    "\n",
    "print('final_train_imageset.shape =', final_train_imageset.shape)\n",
    "print('final_test_imageset.shape =', final_test_imageset.shape)\n",
    "print('y_train2.shape =', y_train2.shape)\n",
    "print('y_test2.shape =', y_test2.shape)"
   ]
  },
  {
   "cell_type": "code",
   "execution_count": null,
   "metadata": {
    "colab": {
     "base_uri": "https://localhost:8080/",
     "height": 54
    },
    "gradient": {},
    "id": "rqh0UKnHB7tg",
    "outputId": "5982f469-3f07-4f5d-930f-17b614c156d8"
   },
   "outputs": [],
   "source": [
    "final_train_label = keras.utils.to_categorical(y_train2, num_classes)\n",
    "final_test_label = keras.utils.to_categorical(y_test2, num_classes)\n",
    "\n",
    "print('final_train_label.shape =',final_train_label.shape)\n",
    "print('final_test_label.shape =',final_test_label.shape)"
   ]
  },
  {
   "cell_type": "code",
   "execution_count": null,
   "metadata": {
    "colab": {
     "base_uri": "https://localhost:8080/",
     "height": 72
    },
    "gradient": {},
    "id": "-tdP_Oy9EXHS",
    "outputId": "162119de-871f-4629-b746-e39793b9c8a1"
   },
   "outputs": [],
   "source": [
    "print(x_train.shape[1], x_train.shape[2])\n",
    "print(x_train.shape[1]*x_train.shape[2])\n",
    "print((x_train.shape[1]*x_train.shape[2])//100)"
   ]
  },
  {
   "cell_type": "code",
   "execution_count": null,
   "metadata": {
    "colab": {
     "base_uri": "https://localhost:8080/",
     "height": 35
    },
    "gradient": {},
    "id": "6MFaPIDaB7yF",
    "outputId": "e4498f72-0bd0-4dfc-d895-8a6e0cb8e91b"
   },
   "outputs": [],
   "source": [
    "percentile = 0.5 # 1.0, 0.5, 0.1, 0.01\n",
    "\n",
    "NUM_NEURONS = int((x_train.shape[1]*x_train.shape[2])*percentile)\n",
    "NUM_LAYERS = 1\n",
    "BATCH_SIZE = 128\n",
    "NUM_EPOCHS = 10 # 3000\n",
    "LEARNING_RATE = 0.0001\n",
    "EPSILON = 1e-4\n",
    "DROPOUT = 0.5 # 0.5, 0.8\n",
    "\n",
    "LOSS = 'categorical_crossentropy'\n",
    "DENSE_ACTIVATION_FUNCTION = 'default' # default, relu, LeakyReLU, PReLU, ELU\n",
    "FINAL_ACTIVATION_FUNCTION = 'softmax'\n",
    "early_stop_after_epochs = 50 # stop after 50 consecutive epochs with no improvement\n",
    "validation_split = 0.1\n",
    "\n",
    "checkpointer_name = \"weights.Dense.Fashion.nLayers\"+str(NUM_LAYERS)+\".nNeurons\"+str(NUM_NEURONS)+\".act.\"+DENSE_ACTIVATION_FUNCTION+\".p\"+str(percentile)+\".dropout\"+str(DROPOUT)+\".batch\"+str(BATCH_SIZE)+\".hdf5\"\n",
    "# checkpointer_name = checkpointer_name.encode(\"utf8\")\n",
    "print(checkpointer_name)"
   ]
  },
  {
   "cell_type": "code",
   "execution_count": null,
   "metadata": {
    "gradient": {},
    "id": "A6sjMgXy5LmJ"
   },
   "outputs": [],
   "source": [
    "def dense_activation():\n",
    "    if DENSE_ACTIVATION_FUNCTION == 'relu':\n",
    "        keras.layers.ReLU(max_value=None, negative_slope=0, threshold=0)\n",
    "    elif DENSE_ACTIVATION_FUNCTION == 'LeakyReLU':\n",
    "        keras.layers.LeakyReLU(alpha=0.3)\n",
    "    elif DENSE_ACTIVATION_FUNCTION == 'PReLU':\n",
    "        keras.layers.PReLU(tf.initializers.constant(0.3)) # \"zeros\"\n",
    "    elif DENSE_ACTIVATION_FUNCTION == 'ELU':\n",
    "        keras.layers.ELU(alpha=1.0)\n",
    "    elif DENSE_ACTIVATION_FUNCTION == 'default':\n",
    "        return None"
   ]
  },
  {
   "cell_type": "code",
   "execution_count": null,
   "metadata": {
    "colab": {
     "base_uri": "https://localhost:8080/",
     "height": 54
    },
    "gradient": {},
    "id": "buEXeKK5qncY",
    "outputId": "3edb3041-5f80-4051-c1fc-406c19e2cb4d"
   },
   "outputs": [],
   "source": [
    "'''\n",
    "def Dense(\n",
    "    units, activation=None, use_bias=True, kernel_initializer='glorot_uniform', \n",
    "    bias_initializer='zeros', kernel_regularizer=None, bias_regularizer=None, \n",
    "    activity_regularizer=None, kernel_constraint=None, bias_constraint=None, **kwargs\n",
    "    )\n",
    "'''"
   ]
  },
  {
   "cell_type": "code",
   "execution_count": null,
   "metadata": {
    "colab": {
     "base_uri": "https://localhost:8080/",
     "height": 348
    },
    "gradient": {},
    "id": "b5XyA5ljB7-h",
    "outputId": "c1c17aa7-6f47-48ea-b11f-078add74b562"
   },
   "outputs": [],
   "source": [
    "from keras.layers import *\n",
    "from keras.models import * #Model, load_model\n",
    "\n",
    "input_shape = final_train_imageset.shape[1:]\n",
    "inputs = Input(input_shape)\n",
    "\n",
    "x = inputs\n",
    "for _ in range(NUM_LAYERS):\n",
    "    x = Dense(NUM_NEURONS, activation=dense_activation())(x)\n",
    "    x = Dropout(DROPOUT)(x)\n",
    "\n",
    "x = Flatten()(x)\n",
    "outputs = Dense(num_classes, activation=FINAL_ACTIVATION_FUNCTION)(x)\n",
    "\n",
    "model = Model(inputs=inputs, outputs=outputs)\n",
    "model.summary()"
   ]
  },
  {
   "cell_type": "code",
   "execution_count": null,
   "metadata": {
    "gradient": {},
    "id": "NvehsjcBB8Bd"
   },
   "outputs": [],
   "source": [
    "optimizer_1 = keras.optimizers.RMSprop(lr = LEARNING_RATE, epsilon=EPSILON)\n",
    "optimizer_2 = keras.optimizers.Adam(lr = LEARNING_RATE, epsilon=EPSILON, beta_1=0.9, beta_2=0.999, amsgrad=False)\n",
    "optimizer_3 = keras.optimizers.SGD(lr = LEARNING_RATE, momentum=0.85)\n",
    "\n",
    "model.compile(\n",
    "    optimizer=optimizer_2, # 'Adam', optimizer_1, optimizer_3\n",
    "    loss=['categorical_crossentropy', 'mean_squared_error', 'mean_absolute_error', \n",
    "          'mean_absolute_percentage_error', 'mean_squared_logarithmic_error'],\n",
    "    metrics=['accuracy', 'Precision', 'Recall']\n",
    ")"
   ]
  },
  {
   "cell_type": "code",
   "execution_count": null,
   "metadata": {
    "gradient": {},
    "id": "ZZgiBDFjB8FB"
   },
   "outputs": [],
   "source": [
    "from tensorflow.keras.callbacks import EarlyStopping, ModelCheckpoint, LambdaCallback\n",
    "\n",
    "checkpointer_best = ModelCheckpoint(filepath = checkpointer_name, \n",
    "                                    monitor='val_loss', \n",
    "                                    save_weights_only=False,\n",
    "                                    mode='auto',  \n",
    "                                    verbose = 2, \n",
    "                                    save_best_only = True\n",
    "                                    )\n",
    "early_stopping = EarlyStopping(monitor='val_loss', patience=early_stop_after_epochs)"
   ]
  },
  {
   "cell_type": "code",
   "execution_count": null,
   "metadata": {
    "gradient": {},
    "id": "yy2Euvi2B7wM"
   },
   "outputs": [],
   "source": [
    "list_callbacks = [checkpointer_best, early_stopping]\n",
    "\n",
    "history = model.fit(final_train_imageset, final_train_label, \n",
    "                    shuffle=True, \n",
    "                    batch_size = BATCH_SIZE, \n",
    "                    epochs = NUM_EPOCHS, \n",
    "                    #steps_per_epoch = 2,\n",
    "                    validation_split = validation_split, \n",
    "                    #validation_data = (final_test_imageset, final_test_label),\n",
    "                    callbacks=list_callbacks\n",
    "                    )"
   ]
  },
  {
   "cell_type": "code",
   "execution_count": null,
   "metadata": {
    "colab": {
     "base_uri": "https://localhost:8080/",
     "height": 35
    },
    "gradient": {},
    "id": "3Q5aL9p9HfAS",
    "outputId": "5922e817-37e4-4aba-b2e8-812c0f0e0519"
   },
   "outputs": [],
   "source": [
    "model_loaded = load_model(checkpointer_name)\n",
    "result = model_loaded.evaluate(final_test_imageset, final_test_label)"
   ]
  },
  {
   "cell_type": "markdown",
   "metadata": {
    "id": "2xyUYqDuBhXO"
   },
   "source": [
    "### Plotting"
   ]
  },
  {
   "cell_type": "code",
   "execution_count": null,
   "metadata": {
    "gradient": {},
    "id": "dy0T9gpuHfGd"
   },
   "outputs": [],
   "source": [
    "import matplotlib.pyplot as plt\n",
    "\n",
    "plt.plot(history.history['loss'])\n",
    "plt.plot(history.history['val_loss'])\n",
    "plt.ylabel('loss')\n",
    "plt.xlabel('epoch')\n",
    "plt.legend(['train_loss','val_loss'], loc = 'best')\n",
    "\n",
    "img_path = 'vLoss_'+checkpointer_name[8:-5]+'.png'\n",
    "plt.savefig(img_path, dpi=600)\n",
    "plt.show()\n",
    "print('img_path =', img_path)"
   ]
  },
  {
   "cell_type": "code",
   "execution_count": null,
   "metadata": {
    "gradient": {},
    "id": "4caIFEY1B7hj"
   },
   "outputs": [],
   "source": [
    "plt.plot(history.history['accuracy'])\n",
    "plt.plot(history.history['val_accuracy'])\n",
    "plt.ylabel('accuracy')\n",
    "plt.xlabel('epoch')\n",
    "plt.legend(['train_accuracy','val_accuracy'], loc = 'best')\n",
    "\n",
    "img_path = 'vAcc_'+checkpointer_name[8:-5]+'.png'\n",
    "plt.savefig(img_path, dpi=600)\n",
    "plt.show()\n",
    "print('img_path =', img_path)"
   ]
  }
 ],
 "metadata": {
  "accelerator": "GPU",
  "colab": {
   "collapsed_sections": [],
   "name": "Paperspace_Shallow_Dense.ipynb",
   "provenance": []
  },
  "kernelspec": {
   "display_name": "Python 3",
   "language": "python",
   "name": "python3"
  },
  "language_info": {
   "codemirror_mode": {
    "name": "ipython",
    "version": 3
   },
   "file_extension": ".py",
   "mimetype": "text/x-python",
   "name": "python",
   "nbconvert_exporter": "python",
   "pygments_lexer": "ipython3",
   "version": "3.6.9"
  }
 },
 "nbformat": 4,
 "nbformat_minor": 4
}
