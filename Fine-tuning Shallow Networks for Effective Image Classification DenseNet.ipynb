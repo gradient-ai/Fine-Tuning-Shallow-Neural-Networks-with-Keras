{
 "cells": [
  {
   "cell_type": "markdown",
   "metadata": {
    "gradient": {
     "editing": false
    }
   },
   "source": [
    "# Fine-Tuning Shallow Neural Networks With Keras\n",
    "\n",
    "For a more detailed breakdown of the code, check out the full tutorial [on the Paperspace blog](https://blog.paperspace.com/fine-tuning-shallow-networks-keras/).\n",
    "\n",
    "Note: this example runs 10 epochs, but you should experiment with running many more than that to improve results."
   ]
  },
  {
   "cell_type": "code",
   "execution_count": 48,
   "metadata": {
    "gradient": {}
   },
   "outputs": [
    {
     "name": "stdout",
     "output_type": "stream",
     "text": [
      "Requirement already satisfied: keras in /usr/local/lib/python3.6/dist-packages (2.4.3)\n",
      "Requirement already satisfied: pyyaml in /usr/local/lib/python3.6/dist-packages (from keras) (5.4.1)\n",
      "Requirement already satisfied: scipy>=0.14 in /usr/local/lib/python3.6/dist-packages (from keras) (1.5.4)\n",
      "Requirement already satisfied: h5py in /usr/local/lib/python3.6/dist-packages (from keras) (2.10.0)\n",
      "Requirement already satisfied: numpy>=1.9.1 in /usr/local/lib/python3.6/dist-packages (from keras) (1.19.5)\n",
      "Requirement already satisfied: six in /usr/local/lib/python3.6/dist-packages (from h5py->keras) (1.16.0)\n",
      "\u001b[33mWARNING: You are using pip version 21.0.1; however, version 21.1.1 is available.\n",
      "You should consider upgrading via the '/usr/bin/python3.6 -m pip install --upgrade pip' command.\u001b[0m\n",
      "Collecting tensorflow\n",
      "  Downloading tensorflow-2.4.1-cp36-cp36m-manylinux2010_x86_64.whl (394.3 MB)\n",
      "\u001b[K     |████████████████████████████████| 394.3 MB 32 kB/s s eta 0:00:01███████████████████████       | 306.8 MB 84.8 MB/s eta 0:00:02\n",
      "\u001b[?25hRequirement already satisfied: astunparse~=1.6.3 in /usr/local/lib/python3.6/dist-packages (from tensorflow) (1.6.3)\n",
      "Requirement already satisfied: wheel~=0.35 in /usr/local/lib/python3.6/dist-packages (from tensorflow) (0.36.2)\n",
      "Requirement already satisfied: protobuf>=3.9.2 in /usr/local/lib/python3.6/dist-packages (from tensorflow) (3.15.8)\n",
      "Requirement already satisfied: numpy~=1.19.2 in /usr/local/lib/python3.6/dist-packages (from tensorflow) (1.19.5)\n",
      "Requirement already satisfied: wrapt~=1.12.1 in /usr/local/lib/python3.6/dist-packages (from tensorflow) (1.12.1)\n",
      "Requirement already satisfied: absl-py~=0.10 in /usr/local/lib/python3.6/dist-packages (from tensorflow) (0.12.0)\n",
      "Requirement already satisfied: tensorboard~=2.4 in /usr/local/lib/python3.6/dist-packages (from tensorflow) (2.4.1)\n",
      "Collecting six~=1.15.0\n",
      "  Downloading six-1.15.0-py2.py3-none-any.whl (10 kB)\n",
      "Requirement already satisfied: flatbuffers~=1.12.0 in /usr/local/lib/python3.6/dist-packages (from tensorflow) (1.12)\n",
      "Requirement already satisfied: typing-extensions~=3.7.4 in /usr/local/lib/python3.6/dist-packages (from tensorflow) (3.7.4.3)\n",
      "Requirement already satisfied: keras-preprocessing~=1.1.2 in /usr/local/lib/python3.6/dist-packages (from tensorflow) (1.1.2)\n",
      "Requirement already satisfied: termcolor~=1.1.0 in /usr/local/lib/python3.6/dist-packages (from tensorflow) (1.1.0)\n",
      "Requirement already satisfied: grpcio~=1.32.0 in /usr/local/lib/python3.6/dist-packages (from tensorflow) (1.32.0)\n",
      "Requirement already satisfied: tensorflow-estimator<2.5.0,>=2.4.0 in /usr/local/lib/python3.6/dist-packages (from tensorflow) (2.4.0)\n",
      "Requirement already satisfied: google-pasta~=0.2 in /usr/local/lib/python3.6/dist-packages (from tensorflow) (0.2.0)\n",
      "Requirement already satisfied: h5py~=2.10.0 in /usr/local/lib/python3.6/dist-packages (from tensorflow) (2.10.0)\n",
      "Requirement already satisfied: opt-einsum~=3.3.0 in /usr/local/lib/python3.6/dist-packages (from tensorflow) (3.3.0)\n",
      "Requirement already satisfied: gast==0.3.3 in /usr/local/lib/python3.6/dist-packages (from tensorflow) (0.3.3)\n",
      "Requirement already satisfied: markdown>=2.6.8 in /usr/local/lib/python3.6/dist-packages (from tensorboard~=2.4->tensorflow) (3.3.4)\n",
      "Requirement already satisfied: requests<3,>=2.21.0 in /usr/local/lib/python3.6/dist-packages (from tensorboard~=2.4->tensorflow) (2.25.1)\n",
      "Requirement already satisfied: google-auth-oauthlib<0.5,>=0.4.1 in /usr/local/lib/python3.6/dist-packages (from tensorboard~=2.4->tensorflow) (0.4.4)\n",
      "Requirement already satisfied: tensorboard-plugin-wit>=1.6.0 in /usr/local/lib/python3.6/dist-packages (from tensorboard~=2.4->tensorflow) (1.8.0)\n",
      "Requirement already satisfied: werkzeug>=0.11.15 in /usr/local/lib/python3.6/dist-packages (from tensorboard~=2.4->tensorflow) (1.0.1)\n",
      "Requirement already satisfied: setuptools>=41.0.0 in /usr/local/lib/python3.6/dist-packages (from tensorboard~=2.4->tensorflow) (54.2.0)\n",
      "Requirement already satisfied: google-auth<2,>=1.6.3 in /usr/local/lib/python3.6/dist-packages (from tensorboard~=2.4->tensorflow) (1.28.1)\n",
      "Requirement already satisfied: rsa<5,>=3.1.4 in /usr/local/lib/python3.6/dist-packages (from google-auth<2,>=1.6.3->tensorboard~=2.4->tensorflow) (4.7.2)\n",
      "Requirement already satisfied: cachetools<5.0,>=2.0.0 in /usr/local/lib/python3.6/dist-packages (from google-auth<2,>=1.6.3->tensorboard~=2.4->tensorflow) (4.2.1)\n",
      "Requirement already satisfied: pyasn1-modules>=0.2.1 in /usr/local/lib/python3.6/dist-packages (from google-auth<2,>=1.6.3->tensorboard~=2.4->tensorflow) (0.2.8)\n",
      "Requirement already satisfied: requests-oauthlib>=0.7.0 in /usr/local/lib/python3.6/dist-packages (from google-auth-oauthlib<0.5,>=0.4.1->tensorboard~=2.4->tensorflow) (1.3.0)\n",
      "Requirement already satisfied: importlib-metadata in /usr/local/lib/python3.6/dist-packages (from markdown>=2.6.8->tensorboard~=2.4->tensorflow) (3.10.0)\n",
      "Requirement already satisfied: pyasn1<0.5.0,>=0.4.6 in /usr/local/lib/python3.6/dist-packages (from pyasn1-modules>=0.2.1->google-auth<2,>=1.6.3->tensorboard~=2.4->tensorflow) (0.4.8)\n",
      "Requirement already satisfied: idna<3,>=2.5 in /usr/local/lib/python3.6/dist-packages (from requests<3,>=2.21.0->tensorboard~=2.4->tensorflow) (2.10)\n",
      "Requirement already satisfied: chardet<5,>=3.0.2 in /usr/local/lib/python3.6/dist-packages (from requests<3,>=2.21.0->tensorboard~=2.4->tensorflow) (4.0.0)\n",
      "Requirement already satisfied: certifi>=2017.4.17 in /usr/local/lib/python3.6/dist-packages (from requests<3,>=2.21.0->tensorboard~=2.4->tensorflow) (2020.12.5)\n",
      "Requirement already satisfied: urllib3<1.27,>=1.21.1 in /usr/local/lib/python3.6/dist-packages (from requests<3,>=2.21.0->tensorboard~=2.4->tensorflow) (1.26.4)\n",
      "Requirement already satisfied: oauthlib>=3.0.0 in /usr/local/lib/python3.6/dist-packages (from requests-oauthlib>=0.7.0->google-auth-oauthlib<0.5,>=0.4.1->tensorboard~=2.4->tensorflow) (3.1.0)\n",
      "Requirement already satisfied: zipp>=0.5 in /usr/local/lib/python3.6/dist-packages (from importlib-metadata->markdown>=2.6.8->tensorboard~=2.4->tensorflow) (3.4.1)\n",
      "Installing collected packages: six, tensorflow\n",
      "  Attempting uninstall: six\n",
      "    Found existing installation: six 1.16.0\n",
      "    Uninstalling six-1.16.0:\n",
      "      Successfully uninstalled six-1.16.0\n",
      "Successfully installed six-1.15.0 tensorflow-2.4.1\n",
      "\u001b[33mWARNING: You are using pip version 21.0.1; however, version 21.1.1 is available.\n",
      "You should consider upgrading via the '/usr/bin/python3.6 -m pip install --upgrade pip' command.\u001b[0m\n",
      "Collecting h5py==2.10.0\n",
      "  Using cached h5py-2.10.0-cp36-cp36m-manylinux1_x86_64.whl (2.9 MB)\n",
      "Collecting six\n",
      "  Using cached six-1.16.0-py2.py3-none-any.whl (11 kB)\n",
      "Collecting numpy>=1.7\n",
      "  Using cached numpy-1.19.5-cp36-cp36m-manylinux2010_x86_64.whl (14.8 MB)\n",
      "Installing collected packages: six, numpy, h5py\n",
      "  Attempting uninstall: six\n",
      "    Found existing installation: six 1.15.0\n",
      "    Uninstalling six-1.15.0:\n",
      "      Successfully uninstalled six-1.15.0\n",
      "  Attempting uninstall: numpy\n",
      "    Found existing installation: numpy 1.19.5\n",
      "    Uninstalling numpy-1.19.5:\n",
      "      Successfully uninstalled numpy-1.19.5\n",
      "  Attempting uninstall: h5py\n",
      "    Found existing installation: h5py 2.10.0\n",
      "    Uninstalling h5py-2.10.0:\n",
      "      Successfully uninstalled h5py-2.10.0\n",
      "\u001b[31mERROR: pip's dependency resolver does not currently take into account all the packages that are installed. This behaviour is the source of the following dependency conflicts.\n",
      "tensorflow 2.4.1 requires six~=1.15.0, but you have six 1.16.0 which is incompatible.\n",
      "tensorflow-gpu 2.4.1 requires six~=1.15.0, but you have six 1.16.0 which is incompatible.\u001b[0m\n",
      "Successfully installed h5py-2.10.0 numpy-1.19.5 six-1.16.0\n",
      "\u001b[33mWARNING: You are using pip version 21.0.1; however, version 21.1.1 is available.\n",
      "You should consider upgrading via the '/usr/bin/python3.6 -m pip install --upgrade pip' command.\u001b[0m\n"
     ]
    }
   ],
   "source": [
    "!pip install keras\n",
    "!pip install --upgrade tensorflow\n",
    "!pip install 'h5py==2.10.0' --force-reinstall"
   ]
  },
  {
   "cell_type": "code",
   "execution_count": 1,
   "metadata": {
    "colab": {
     "base_uri": "https://localhost:8080/",
     "height": 90
    },
    "gradient": {},
    "id": "sYVrctmMB7e5",
    "outputId": "b43a1a19-d4e7-452b-bed3-c2b60448c466"
   },
   "outputs": [],
   "source": [
    "import keras\n",
    "\n",
    "(x_train, y_train), (x_test, y_test) = keras.datasets.fashion_mnist.load_data()\n",
    "\n",
    "print('x_train.shape =',x_train.shape)\n",
    "print('y_train.shape =',y_train.shape)\n",
    "print('x_test.shape =',x_test.shape)\n",
    "print('y_test.shape =',y_test.shape)"
   ]
  },
  {
   "cell_type": "code",
   "execution_count": 2,
   "metadata": {
    "colab": {
     "base_uri": "https://localhost:8080/",
     "height": 35
    },
    "gradient": {},
    "id": "rntIeavBB7kk",
    "outputId": "2f7a86c2-9165-4c3d-98e7-72eca746fa3b"
   },
   "outputs": [
    {
     "name": "stdout",
     "output_type": "stream",
     "text": [
      "num_classes = 10\n"
     ]
    }
   ],
   "source": [
    "import numpy as np\n",
    "\n",
    "list_categories = ['T-shirt/top', 'Trouser', 'Pullover', 'Dress', 'Coat', 'Sandal', 'Shirt', 'Sneaker', 'Bag', 'Ankle boot']\n",
    "num_classes = np.unique(y_test).shape[0] #len(list_categories)\n",
    "print('num_classes =', num_classes)"
   ]
  },
  {
   "cell_type": "code",
   "execution_count": 3,
   "metadata": {
    "gradient": {},
    "id": "ul2-qN8KB7ni"
   },
   "outputs": [],
   "source": [
    "x_train_norm = x_train/255\n",
    "x_test_norm = x_test/255"
   ]
  },
  {
   "cell_type": "code",
   "execution_count": 4,
   "metadata": {
    "colab": {
     "base_uri": "https://localhost:8080/",
     "height": 90
    },
    "gradient": {},
    "id": "VVglO5LlB7qE",
    "outputId": "e383a97c-03fb-4f2e-fd5d-613ab6f7fc58"
   },
   "outputs": [
    {
     "name": "stdout",
     "output_type": "stream",
     "text": [
      "final_train_imageset.shape = (60000, 28, 28, 1)\n",
      "final_test_imageset.shape = (10000, 28, 28, 1)\n",
      "y_train2.shape = (60000, 1)\n",
      "y_test2.shape = (10000, 1)\n"
     ]
    }
   ],
   "source": [
    "final_train_imageset = np.expand_dims(x_train_norm, axis = 3)\n",
    "final_test_imageset = np.expand_dims(x_test_norm, axis = 3)\n",
    "\n",
    "y_train2 = np.expand_dims(y_train, axis = 1)\n",
    "y_test2 = np.expand_dims(y_test, axis = 1)\n",
    "\n",
    "print('final_train_imageset.shape =', final_train_imageset.shape)\n",
    "print('final_test_imageset.shape =', final_test_imageset.shape)\n",
    "print('y_train2.shape =', y_train2.shape)\n",
    "print('y_test2.shape =', y_test2.shape)"
   ]
  },
  {
   "cell_type": "code",
   "execution_count": 5,
   "metadata": {
    "colab": {
     "base_uri": "https://localhost:8080/",
     "height": 54
    },
    "gradient": {},
    "id": "rqh0UKnHB7tg",
    "outputId": "5982f469-3f07-4f5d-930f-17b614c156d8"
   },
   "outputs": [
    {
     "name": "stdout",
     "output_type": "stream",
     "text": [
      "final_train_label.shape = (60000, 10)\n",
      "final_test_label.shape = (10000, 10)\n"
     ]
    }
   ],
   "source": [
    "final_train_label = keras.utils.to_categorical(y_train2, num_classes)\n",
    "final_test_label = keras.utils.to_categorical(y_test2, num_classes)\n",
    "\n",
    "print('final_train_label.shape =',final_train_label.shape)\n",
    "print('final_test_label.shape =',final_test_label.shape)"
   ]
  },
  {
   "cell_type": "code",
   "execution_count": 6,
   "metadata": {
    "colab": {
     "base_uri": "https://localhost:8080/",
     "height": 72
    },
    "gradient": {},
    "id": "-tdP_Oy9EXHS",
    "outputId": "162119de-871f-4629-b746-e39793b9c8a1"
   },
   "outputs": [
    {
     "name": "stdout",
     "output_type": "stream",
     "text": [
      "28 28\n",
      "784\n",
      "7\n"
     ]
    }
   ],
   "source": [
    "print(x_train.shape[1], x_train.shape[2])\n",
    "print(x_train.shape[1]*x_train.shape[2])\n",
    "print((x_train.shape[1]*x_train.shape[2])//100)"
   ]
  },
  {
   "cell_type": "code",
   "execution_count": 15,
   "metadata": {
    "colab": {
     "base_uri": "https://localhost:8080/",
     "height": 35
    },
    "gradient": {},
    "id": "6MFaPIDaB7yF",
    "outputId": "e4498f72-0bd0-4dfc-d895-8a6e0cb8e91b"
   },
   "outputs": [
    {
     "name": "stdout",
     "output_type": "stream",
     "text": [
      "weights.Dense.Fashion.nLayers1.nNeurons392.act.default.p0.5.dropout0.5.batch128.hdf5\n"
     ]
    }
   ],
   "source": [
    "percentile = 0.5 # 1.0, 0.5, 0.1, 0.01\n",
    "\n",
    "NUM_NEURONS = int((x_train.shape[1]*x_train.shape[2])*percentile)\n",
    "NUM_LAYERS = 1\n",
    "BATCH_SIZE = 128\n",
    "NUM_EPOCHS = 10 # 3000\n",
    "LEARNING_RATE = 0.0001\n",
    "EPSILON = 1e-4\n",
    "DROPOUT = 0.5 # 0.5, 0.8\n",
    "\n",
    "LOSS = 'categorical_crossentropy'\n",
    "DENSE_ACTIVATION_FUNCTION = 'default' # default, relu, LeakyReLU, PReLU, ELU\n",
    "FINAL_ACTIVATION_FUNCTION = 'softmax'\n",
    "early_stop_after_epochs = 50 # stop after 50 consecutive epochs with no improvement\n",
    "validation_split = 0.1\n",
    "\n",
    "checkpointer_name = \"weights.Dense.Fashion.nLayers\"+str(NUM_LAYERS)+\".nNeurons\"+str(NUM_NEURONS)+\".act.\"+DENSE_ACTIVATION_FUNCTION+\".p\"+str(percentile)+\".dropout\"+str(DROPOUT)+\".batch\"+str(BATCH_SIZE)+\".hdf5\"\n",
    "# checkpointer_name = checkpointer_name.encode(\"utf8\")\n",
    "print(checkpointer_name)"
   ]
  },
  {
   "cell_type": "code",
   "execution_count": 16,
   "metadata": {
    "gradient": {},
    "id": "A6sjMgXy5LmJ"
   },
   "outputs": [],
   "source": [
    "def dense_activation():\n",
    "    if DENSE_ACTIVATION_FUNCTION == 'relu':\n",
    "        keras.layers.ReLU(max_value=None, negative_slope=0, threshold=0)\n",
    "    elif DENSE_ACTIVATION_FUNCTION == 'LeakyReLU':\n",
    "        keras.layers.LeakyReLU(alpha=0.3)\n",
    "    elif DENSE_ACTIVATION_FUNCTION == 'PReLU':\n",
    "        keras.layers.PReLU(tf.initializers.constant(0.3)) # \"zeros\"\n",
    "    elif DENSE_ACTIVATION_FUNCTION == 'ELU':\n",
    "        keras.layers.ELU(alpha=1.0)\n",
    "    elif DENSE_ACTIVATION_FUNCTION == 'default':\n",
    "        return None"
   ]
  },
  {
   "cell_type": "code",
   "execution_count": 17,
   "metadata": {
    "colab": {
     "base_uri": "https://localhost:8080/",
     "height": 54
    },
    "gradient": {},
    "id": "buEXeKK5qncY",
    "outputId": "3edb3041-5f80-4051-c1fc-406c19e2cb4d"
   },
   "outputs": [
    {
     "data": {
      "text/plain": [
       "\"\\ndef Dense(\\n    units, activation=None, use_bias=True, kernel_initializer='glorot_uniform', \\n    bias_initializer='zeros', kernel_regularizer=None, bias_regularizer=None, \\n    activity_regularizer=None, kernel_constraint=None, bias_constraint=None, **kwargs\\n    )\\n\""
      ]
     },
     "execution_count": 17,
     "metadata": {},
     "output_type": "execute_result"
    }
   ],
   "source": [
    "'''\n",
    "def Dense(\n",
    "    units, activation=None, use_bias=True, kernel_initializer='glorot_uniform', \n",
    "    bias_initializer='zeros', kernel_regularizer=None, bias_regularizer=None, \n",
    "    activity_regularizer=None, kernel_constraint=None, bias_constraint=None, **kwargs\n",
    "    )\n",
    "'''"
   ]
  },
  {
   "cell_type": "code",
   "execution_count": 18,
   "metadata": {
    "colab": {
     "base_uri": "https://localhost:8080/",
     "height": 348
    },
    "gradient": {},
    "id": "b5XyA5ljB7-h",
    "outputId": "c1c17aa7-6f47-48ea-b11f-078add74b562"
   },
   "outputs": [
    {
     "name": "stdout",
     "output_type": "stream",
     "text": [
      "Model: \"model_1\"\n",
      "_________________________________________________________________\n",
      "Layer (type)                 Output Shape              Param #   \n",
      "=================================================================\n",
      "input_2 (InputLayer)         [(None, 28, 28, 1)]       0         \n",
      "_________________________________________________________________\n",
      "dense_2 (Dense)              (None, 28, 28, 392)       784       \n",
      "_________________________________________________________________\n",
      "dropout_1 (Dropout)          (None, 28, 28, 392)       0         \n",
      "_________________________________________________________________\n",
      "flatten_1 (Flatten)          (None, 307328)            0         \n",
      "_________________________________________________________________\n",
      "dense_3 (Dense)              (None, 10)                3073290   \n",
      "=================================================================\n",
      "Total params: 3,074,074\n",
      "Trainable params: 3,074,074\n",
      "Non-trainable params: 0\n",
      "_________________________________________________________________\n"
     ]
    }
   ],
   "source": [
    "from keras.layers import *\n",
    "from keras.models import * #Model, load_model\n",
    "\n",
    "input_shape = final_train_imageset.shape[1:]\n",
    "inputs = Input(input_shape)\n",
    "\n",
    "x = inputs\n",
    "for _ in range(NUM_LAYERS):\n",
    "    x = Dense(NUM_NEURONS, activation=dense_activation())(x)\n",
    "    x = Dropout(DROPOUT)(x)\n",
    "\n",
    "x = Flatten()(x)\n",
    "outputs = Dense(num_classes, activation=FINAL_ACTIVATION_FUNCTION)(x)\n",
    "\n",
    "model = Model(inputs=inputs, outputs=outputs)\n",
    "model.summary()"
   ]
  },
  {
   "cell_type": "code",
   "execution_count": 19,
   "metadata": {
    "gradient": {},
    "id": "NvehsjcBB8Bd"
   },
   "outputs": [],
   "source": [
    "optimizer_1 = keras.optimizers.RMSprop(lr = LEARNING_RATE, epsilon=EPSILON)\n",
    "optimizer_2 = keras.optimizers.Adam(lr = LEARNING_RATE, epsilon=EPSILON, beta_1=0.9, beta_2=0.999, amsgrad=False)\n",
    "optimizer_3 = keras.optimizers.SGD(lr = LEARNING_RATE, momentum=0.85)\n",
    "\n",
    "model.compile(\n",
    "    optimizer=optimizer_2, # 'Adam', optimizer_1, optimizer_3\n",
    "    loss=['categorical_crossentropy', 'mean_squared_error', 'mean_absolute_error', \n",
    "          'mean_absolute_percentage_error', 'mean_squared_logarithmic_error'],\n",
    "    metrics=['accuracy', 'Precision', 'Recall']\n",
    ")"
   ]
  },
  {
   "cell_type": "code",
   "execution_count": 20,
   "metadata": {
    "gradient": {},
    "id": "ZZgiBDFjB8FB"
   },
   "outputs": [],
   "source": [
    "from tensorflow.keras.callbacks import EarlyStopping, ModelCheckpoint, LambdaCallback\n",
    "\n",
    "checkpointer_best = ModelCheckpoint(filepath = checkpointer_name, \n",
    "                                    monitor='val_loss', \n",
    "                                    save_weights_only=False,\n",
    "                                    mode='auto',  \n",
    "                                    verbose = 2, \n",
    "                                    save_best_only = True\n",
    "                                    )\n",
    "early_stopping = EarlyStopping(monitor='val_loss', patience=early_stop_after_epochs)"
   ]
  },
  {
   "cell_type": "code",
   "execution_count": 21,
   "metadata": {
    "gradient": {},
    "id": "yy2Euvi2B7wM"
   },
   "outputs": [
    {
     "name": "stdout",
     "output_type": "stream",
     "text": [
      "Epoch 1/10\n",
      "422/422 [==============================] - 13s 30ms/step - loss: 0.9028 - accuracy: 0.7109 - precision: 0.8645 - recall: 0.5136 - val_loss: 0.4735 - val_accuracy: 0.8305 - val_precision: 0.8766 - val_recall: 0.7768\n",
      "\n",
      "Epoch 00001: val_loss improved from inf to 0.47347, saving model to weights.Dense.Fashion.nLayers1.nNeurons392.act.default.p0.5.dropout0.5.batch128.hdf5\n",
      "Epoch 2/10\n",
      "422/422 [==============================] - 12s 29ms/step - loss: 0.4710 - accuracy: 0.8358 - precision: 0.8787 - recall: 0.7889 - val_loss: 0.4425 - val_accuracy: 0.8428 - val_precision: 0.8804 - val_recall: 0.7987\n",
      "\n",
      "Epoch 00002: val_loss improved from 0.47347 to 0.44247, saving model to weights.Dense.Fashion.nLayers1.nNeurons392.act.default.p0.5.dropout0.5.batch128.hdf5\n",
      "Epoch 3/10\n",
      "422/422 [==============================] - 12s 28ms/step - loss: 0.4419 - accuracy: 0.8459 - precision: 0.8826 - recall: 0.8100 - val_loss: 0.4241 - val_accuracy: 0.8495 - val_precision: 0.8852 - val_recall: 0.8118\n",
      "\n",
      "Epoch 00003: val_loss improved from 0.44247 to 0.42413, saving model to weights.Dense.Fashion.nLayers1.nNeurons392.act.default.p0.5.dropout0.5.batch128.hdf5\n",
      "Epoch 4/10\n",
      "422/422 [==============================] - 12s 28ms/step - loss: 0.4193 - accuracy: 0.8576 - precision: 0.8882 - recall: 0.8234 - val_loss: 0.4152 - val_accuracy: 0.8500 - val_precision: 0.8840 - val_recall: 0.8168\n",
      "\n",
      "Epoch 00004: val_loss improved from 0.42413 to 0.41516, saving model to weights.Dense.Fashion.nLayers1.nNeurons392.act.default.p0.5.dropout0.5.batch128.hdf5\n",
      "Epoch 5/10\n",
      "422/422 [==============================] - 12s 28ms/step - loss: 0.4139 - accuracy: 0.8552 - precision: 0.8881 - recall: 0.8218 - val_loss: 0.4170 - val_accuracy: 0.8515 - val_precision: 0.8798 - val_recall: 0.8200\n",
      "\n",
      "Epoch 00005: val_loss did not improve from 0.41516\n",
      "Epoch 6/10\n",
      "422/422 [==============================] - 12s 29ms/step - loss: 0.4054 - accuracy: 0.8581 - precision: 0.8885 - recall: 0.8295 - val_loss: 0.4087 - val_accuracy: 0.8567 - val_precision: 0.8883 - val_recall: 0.8218\n",
      "\n",
      "Epoch 00006: val_loss improved from 0.41516 to 0.40867, saving model to weights.Dense.Fashion.nLayers1.nNeurons392.act.default.p0.5.dropout0.5.batch128.hdf5\n",
      "Epoch 7/10\n",
      "422/422 [==============================] - 12s 28ms/step - loss: 0.4026 - accuracy: 0.8618 - precision: 0.8915 - recall: 0.8308 - val_loss: 0.4218 - val_accuracy: 0.8523 - val_precision: 0.8824 - val_recall: 0.8213\n",
      "\n",
      "Epoch 00007: val_loss did not improve from 0.40867\n",
      "Epoch 8/10\n",
      "422/422 [==============================] - 12s 28ms/step - loss: 0.3954 - accuracy: 0.8632 - precision: 0.8925 - recall: 0.8348 - val_loss: 0.4212 - val_accuracy: 0.8523 - val_precision: 0.8780 - val_recall: 0.8207\n",
      "\n",
      "Epoch 00008: val_loss did not improve from 0.40867\n",
      "Epoch 9/10\n",
      "422/422 [==============================] - 12s 28ms/step - loss: 0.3982 - accuracy: 0.8617 - precision: 0.8914 - recall: 0.8331 - val_loss: 0.4006 - val_accuracy: 0.8603 - val_precision: 0.8896 - val_recall: 0.8337\n",
      "\n",
      "Epoch 00009: val_loss improved from 0.40867 to 0.40060, saving model to weights.Dense.Fashion.nLayers1.nNeurons392.act.default.p0.5.dropout0.5.batch128.hdf5\n",
      "Epoch 10/10\n",
      "422/422 [==============================] - 12s 29ms/step - loss: 0.3948 - accuracy: 0.8647 - precision: 0.8931 - recall: 0.8361 - val_loss: 0.4061 - val_accuracy: 0.8565 - val_precision: 0.8819 - val_recall: 0.8290\n",
      "\n",
      "Epoch 00010: val_loss did not improve from 0.40060\n"
     ]
    }
   ],
   "source": [
    "list_callbacks = [checkpointer_best, early_stopping]\n",
    "\n",
    "history = model.fit(final_train_imageset, final_train_label, \n",
    "                    shuffle=True, \n",
    "                    batch_size = BATCH_SIZE, \n",
    "                    epochs = NUM_EPOCHS, \n",
    "                    #steps_per_epoch = 2,\n",
    "                    validation_split = validation_split, \n",
    "                    #validation_data = (final_test_imageset, final_test_label),\n",
    "                    callbacks=list_callbacks\n",
    "                    )"
   ]
  },
  {
   "cell_type": "code",
   "execution_count": 22,
   "metadata": {
    "colab": {
     "base_uri": "https://localhost:8080/",
     "height": 35
    },
    "gradient": {},
    "id": "3Q5aL9p9HfAS",
    "outputId": "5922e817-37e4-4aba-b2e8-812c0f0e0519"
   },
   "outputs": [
    {
     "name": "stdout",
     "output_type": "stream",
     "text": [
      "313/313 [==============================] - 2s 5ms/step - loss: 0.4400 - accuracy: 0.8456 - precision: 0.8744 - recall: 0.8162\n"
     ]
    }
   ],
   "source": [
    "model_loaded = load_model(checkpointer_name)\n",
    "result = model_loaded.evaluate(final_test_imageset, final_test_label)"
   ]
  },
  {
   "cell_type": "markdown",
   "metadata": {
    "id": "2xyUYqDuBhXO"
   },
   "source": [
    "### Plotting"
   ]
  },
  {
   "cell_type": "code",
   "execution_count": 23,
   "metadata": {
    "gradient": {},
    "id": "dy0T9gpuHfGd"
   },
   "outputs": [
    {
     "data": {
      "image/png": "[encoded data removed]",
      "text/plain": [
       "<Figure size 432x288 with 1 Axes>"
      ]
     },
     "metadata": {
      "needs_background": "light"
     },
     "output_type": "display_data"
    },
    {
     "name": "stdout",
     "output_type": "stream",
     "text": [
      "img_path = vLoss_Dense.Fashion.nLayers1.nNeurons392.act.default.p0.5.dropout0.5.batch128.png\n"
     ]
    }
   ],
   "source": [
    "import matplotlib.pyplot as plt\n",
    "\n",
    "plt.plot(history.history['loss'])\n",
    "plt.plot(history.history['val_loss'])\n",
    "plt.ylabel('loss')\n",
    "plt.xlabel('epoch')\n",
    "plt.legend(['train_loss','val_loss'], loc = 'best')\n",
    "\n",
    "img_path = 'vLoss_'+checkpointer_name[8:-5]+'.png'\n",
    "plt.savefig(img_path, dpi=600)\n",
    "plt.show()\n",
    "print('img_path =', img_path)"
   ]
  },
  {
   "cell_type": "code",
   "execution_count": 24,
   "metadata": {
    "gradient": {},
    "id": "4caIFEY1B7hj"
   },
   "outputs": [
    {
     "data": {
      "image/png": "[encoded data removed]",
      "text/plain": [
       "<Figure size 432x288 with 1 Axes>"
      ]
     },
     "metadata": {
      "needs_background": "light"
     },
     "output_type": "display_data"
    },
    {
     "name": "stdout",
     "output_type": "stream",
     "text": [
      "img_path = vAcc_Dense.Fashion.nLayers1.nNeurons392.act.default.p0.5.dropout0.5.batch128.png\n"
     ]
    }
   ],
   "source": [
    "plt.plot(history.history['accuracy'])\n",
    "plt.plot(history.history['val_accuracy'])\n",
    "plt.ylabel('accuracy')\n",
    "plt.xlabel('epoch')\n",
    "plt.legend(['train_accuracy','val_accuracy'], loc = 'best')\n",
    "\n",
    "img_path = 'vAcc_'+checkpointer_name[8:-5]+'.png'\n",
    "plt.savefig(img_path, dpi=600)\n",
    "plt.show()\n",
    "print('img_path =', img_path)"
   ]
  }
 ],
 "metadata": {
  "accelerator": "GPU",
  "colab": {
   "collapsed_sections": [],
   "name": "Paperspace_Shallow_Dense.ipynb",
   "provenance": []
  },
  "kernelspec": {
   "display_name": "Python 3",
   "language": "python",
   "name": "python3"
  },
  "language_info": {
   "codemirror_mode": {
    "name": "ipython",
    "version": 3
   },
   "file_extension": ".py",
   "mimetype": "text/x-python",
   "name": "python",
   "nbconvert_exporter": "python",
   "pygments_lexer": "ipython3",
   "version": "3.6.9"
  }
 },
 "nbformat": 4,
 "nbformat_minor": 4
}
